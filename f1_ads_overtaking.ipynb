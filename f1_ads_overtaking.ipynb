{
 "cells": [
  {
   "cell_type": "code",
   "execution_count": 2,
   "id": "ff6a8ffb",
   "metadata": {},
   "outputs": [
    {
     "name": "stdout",
     "output_type": "stream",
     "text": [
      "Data folder contents: ['circuits.csv', 'constructors.csv', 'constructor_results.csv', 'constructor_standings.csv', 'drivers.csv', 'driver_standings.csv', 'lap_times.csv', 'pit_stops.csv', 'qualifying.csv', 'races.csv', 'results.csv', 'seasons.csv', 'sprint_results.csv', 'status.csv']\n",
      "Results saved to results.csv\n"
     ]
    }
   ],
   "source": [
    "import pandas as pd\n",
    "import numpy as np\n",
    "from sklearn.linear_model import LogisticRegression\n",
    "import os\n",
    "\n",
    "# Verify working directory contains data/ folder\n",
    "\n",
    "print(\"Data folder contents:\", os.listdir(\"data\"))\n",
    "\n",
    "# Load CSV datasets with relative paths\n",
    "lap_times = pd.read_csv(\"data/lap_times.csv\")\n",
    "races = pd.read_csv(\"data/races.csv\")\n",
    "drivers = pd.read_csv(\"data/drivers.csv\")\n",
    "\n",
    "# Filter for 2020 Turkish GP (rainy race)\n",
    "races_2020 = races[races[\"year\"] == 2020]\n",
    "try:\n",
    "    turkish_gp = races_2020[races_2020[\"name\"].str.contains(\"Turkish\")][\"raceId\"].iloc[0]\n",
    "except IndexError:\n",
    "    print(\"Turkish GP not found, using first 2020 race\")\n",
    "    turkish_gp = races_2020[\"raceId\"].iloc[0]\n",
    "lap_times_2020 = lap_times[lap_times[\"raceId\"] == turkish_gp]\n",
    "\n",
    "# Simulate ADS-like overtaking decision\n",
    "results = []\n",
    "for driver_id in lap_times_2020[\"driverId\"].unique():\n",
    "    driver_laps = lap_times_2020[lap_times_2020[\"driverId\"] == driver_id].sort_values(\"lap\")\n",
    "    if len(driver_laps) > 1:\n",
    "        # Calculate speed (inverse of lap time) and gap to next car\n",
    "        lap_times_ms = driver_laps[\"milliseconds\"].values\n",
    "        speeds = 1 / (lap_times_ms / 1000)  # Speed in arbitrary units\n",
    "        gaps = np.random.uniform(0.5, 2.0, len(lap_times_ms))  # Simulated gaps (meters)\n",
    "        rain_factor = 0.8  # Reduced grip in rain\n",
    "        \n",
    "        # ADS decision: Overtake if speed advantage > threshold\n",
    "        threshold = np.mean(speeds) * 1.1 * rain_factor  # 10% faster, adjusted for rain\n",
    "        for i, (lap, speed, gap) in enumerate(zip(driver_laps[\"lap\"], speeds, gaps)):\n",
    "            decision = 1 if speed > threshold and gap < 1.0 else 0  # Overtake if fast and close\n",
    "            # Success: Overtaking improves next lap time\n",
    "            next_lap_time = lap_times_ms[i + 1] if i + 1 < len(lap_times_ms) else lap_times_ms[-1]\n",
    "            current_lap_time = lap_times_ms[i]\n",
    "            success = 1 if decision == 1 and next_lap_time < current_lap_time else 0\n",
    "            results.append({\n",
    "                \"Driver\": driver_id,\n",
    "                \"Lap\": lap,\n",
    "                \"Scenario\": \"Rain\",\n",
    "                \"OvertakeDecision\": decision,\n",
    "                \"OvertakeSuccess\": success\n",
    "            })\n",
    "\n",
    "# Save results\n",
    "pd.DataFrame(results).to_csv(\"results.csv\", index=False)\n",
    "print(\"Results saved to results.csv\")"
   ]
  },
  {
   "cell_type": "code",
   "execution_count": null,
   "id": "231a4989",
   "metadata": {},
   "outputs": [],
   "source": []
  }
 ],
 "metadata": {
  "kernelspec": {
   "display_name": "Python 3 (ipykernel)",
   "language": "python",
   "name": "python3"
  },
  "language_info": {
   "codemirror_mode": {
    "name": "ipython",
    "version": 3
   },
   "file_extension": ".py",
   "mimetype": "text/x-python",
   "name": "python",
   "nbconvert_exporter": "python",
   "pygments_lexer": "ipython3",
   "version": "3.11.4"
  }
 },
 "nbformat": 4,
 "nbformat_minor": 5
}
